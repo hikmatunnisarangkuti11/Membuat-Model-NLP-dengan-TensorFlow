{
  "nbformat": 4,
  "nbformat_minor": 0,
  "metadata": {
    "colab": {
      "provenance": []
    },
    "kernelspec": {
      "name": "python3",
      "display_name": "Python 3"
    },
    "language_info": {
      "name": "python"
    }
  },
  "cells": [
    {
      "cell_type": "code",
      "execution_count": 3,
      "metadata": {
        "colab": {
          "base_uri": "https://localhost:8080/"
        },
        "id": "jOmn_pnA8A29",
        "outputId": "573a30ae-fdcd-4b02-c492-1cbd162e557e"
      },
      "outputs": [
        {
          "output_type": "stream",
          "name": "stdout",
          "text": [
            "Number of training samples: 19900\n",
            "Number of validation samples: 4975\n",
            "Number of testing samples: 24944\n",
            "Max length of sequences: 200\n",
            "Model: \"sequential_1\"\n",
            "_________________________________________________________________\n",
            " Layer (type)                Output Shape              Param #   \n",
            "=================================================================\n",
            " embedding_1 (Embedding)     (None, 200, 16)           80000     \n",
            "                                                                 \n",
            " lstm_1 (LSTM)               (None, 64)                20736     \n",
            "                                                                 \n",
            " dense_2 (Dense)             (None, 128)               8320      \n",
            "                                                                 \n",
            " dropout_1 (Dropout)         (None, 128)               0         \n",
            "                                                                 \n",
            " dense_3 (Dense)             (None, 1)                 129       \n",
            "                                                                 \n",
            "=================================================================\n",
            "Total params: 109185 (426.50 KB)\n",
            "Trainable params: 109185 (426.50 KB)\n",
            "Non-trainable params: 0 (0.00 Byte)\n",
            "_________________________________________________________________\n",
            "Epoch 1/5\n",
            "156/156 [==============================] - 54s 326ms/step - loss: 0.5222 - accuracy: 0.7183 - val_loss: 0.3352 - val_accuracy: 0.8557\n",
            "Epoch 2/5\n",
            "156/156 [==============================] - 53s 338ms/step - loss: 0.2781 - accuracy: 0.8870 - val_loss: 0.3251 - val_accuracy: 0.8583\n",
            "Epoch 3/5\n",
            "156/156 [==============================] - 52s 334ms/step - loss: 0.2232 - accuracy: 0.9138 - val_loss: 0.3319 - val_accuracy: 0.8699\n",
            "Epoch 4/5\n",
            "156/156 [==============================] - 52s 334ms/step - loss: 0.2050 - accuracy: 0.9216 - val_loss: 0.3250 - val_accuracy: 0.8685\n",
            "Epoch 5/5\n",
            "156/156 [==============================] - 52s 330ms/step - loss: 0.1796 - accuracy: 0.9328 - val_loss: 0.3553 - val_accuracy: 0.8677\n",
            "Training Accuracy: 95.68%\n",
            "Validation Accuracy: 86.77%\n"
          ]
        }
      ],
      "source": [
        "import tensorflow as tf\n",
        "from tensorflow.keras.datasets import imdb\n",
        "from tensorflow.keras.models import Sequential\n",
        "from tensorflow.keras.layers import Embedding, LSTM, Dense, Dropout\n",
        "from tensorflow.keras.preprocessing.sequence import pad_sequences\n",
        "from tensorflow.keras.preprocessing.text import Tokenizer\n",
        "from sklearn.model_selection import train_test_split\n",
        "\n",
        "# Load IMDb dataset with a limit of 1000 samples\n",
        "max_samples = 1000\n",
        "(x_train, y_train), (x_test, y_test) = imdb.load_data(num_words=5000, maxlen=max_samples)\n",
        "\n",
        "# Pad sequences to a fixed length\n",
        "max_len = 200\n",
        "x_train = pad_sequences(x_train, maxlen=max_len)\n",
        "x_test = pad_sequences(x_test, maxlen=max_len)\n",
        "\n",
        "# Split the data into training and validation sets\n",
        "x_train, x_val, y_train, y_val = train_test_split(x_train, y_train, test_size=0.2, random_state=42)\n",
        "\n",
        "# Print information about the dataset\n",
        "print(f\"Number of training samples: {len(x_train)}\")\n",
        "print(f\"Number of validation samples: {len(x_val)}\")\n",
        "print(f\"Number of testing samples: {len(x_test)}\")\n",
        "print(f\"Max length of sequences: {max_len}\")\n",
        "\n",
        "# Build the model\n",
        "model = Sequential([\n",
        "    Embedding(input_dim=5000, output_dim=16, input_length=max_len),\n",
        "    LSTM(64),\n",
        "    Dense(128, activation='relu'),\n",
        "    Dropout(0.5),\n",
        "    Dense(1, activation='sigmoid')\n",
        "])\n",
        "\n",
        "# Compile the model\n",
        "model.compile(optimizer='adam', loss='binary_crossentropy', metrics=['accuracy'])\n",
        "\n",
        "# Print model summary\n",
        "model.summary()\n",
        "\n",
        "# Train the model\n",
        "history = model.fit(\n",
        "    x_train, y_train,\n",
        "    epochs=5,\n",
        "    batch_size=128,\n",
        "    validation_data=(x_val, y_val)\n",
        ")\n",
        "\n",
        "# Evaluate the model\n",
        "train_loss, train_acc = model.evaluate(x_train, y_train, verbose=0)\n",
        "val_loss, val_acc = model.evaluate(x_val, y_val, verbose=0)\n",
        "\n",
        "print(f'Training Accuracy: {train_acc * 100:.2f}%')\n",
        "print(f'Validation Accuracy: {val_acc * 100:.2f}%')\n"
      ]
    }
  ]
}